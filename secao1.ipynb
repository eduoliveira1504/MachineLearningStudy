{
 "cells": [
  {
   "cell_type": "markdown",
   "id": "fe0f0361",
   "metadata": {},
   "source": [
    "Aula 1 - Classificação"
   ]
  },
  {
   "cell_type": "code",
   "execution_count": null,
   "id": "90174bac",
   "metadata": {
    "vscode": {
     "languageId": "plaintext"
    }
   },
   "outputs": [],
   "source": []
  }
 ],
 "metadata": {
  "language_info": {
   "name": "python"
  }
 },
 "nbformat": 4,
 "nbformat_minor": 5
}
